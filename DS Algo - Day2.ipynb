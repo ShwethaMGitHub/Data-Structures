{
 "cells": [
  {
   "cell_type": "code",
   "execution_count": 2,
   "metadata": {},
   "outputs": [
    {
     "name": "stdout",
     "output_type": "stream",
     "text": [
      "5 , 2\n",
      "7 , 0\n"
     ]
    }
   ],
   "source": [
    "#Given a array,find all the pairs whose sum equal to given K\n",
    "import itertools\n",
    "lst=[1, 5, 7, 8, 2, 0]\n",
    "k=7\n",
    "res_list = [i for i in lst if i <= k]\n",
    "\n",
    "for n in itertools.combinations(res_list, 2):\n",
    "    if n[0] + n[1] == k:\n",
    "        print (str(n[0]) + \" , \" + str(n[1]))"
   ]
  },
  {
   "cell_type": "code",
   "execution_count": null,
   "metadata": {},
   "outputs": [],
   "source": []
  }
 ],
 "metadata": {
  "kernelspec": {
   "display_name": "Python 3",
   "language": "python",
   "name": "python3"
  },
  "language_info": {
   "codemirror_mode": {
    "name": "ipython",
    "version": 3
   },
   "file_extension": ".py",
   "mimetype": "text/x-python",
   "name": "python",
   "nbconvert_exporter": "python",
   "pygments_lexer": "ipython3",
   "version": "3.7.3"
  }
 },
 "nbformat": 4,
 "nbformat_minor": 2
}
